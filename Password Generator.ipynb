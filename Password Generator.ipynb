{
 "cells": [
  {
   "cell_type": "markdown",
   "id": "73539f4b",
   "metadata": {},
   "source": [
    "# Password Generator"
   ]
  },
  {
   "cell_type": "code",
   "execution_count": 8,
   "id": "c5ae1f4c",
   "metadata": {},
   "outputs": [
    {
     "name": "stdout",
     "output_type": "stream",
     "text": [
      "Welcome to password Generator!\n",
      "How many letters you want in your password?\n",
      "6\n",
      "How many symbols you want in your password?\n",
      "4\n",
      "How many numbers you want in your password?\n",
      "3\n",
      " ZULBhQ&)@@807\n"
     ]
    }
   ],
   "source": [
    "import random\n",
    "letters = ['a','b','c','d','e','f','g','h','i','j','k','l','m','n','o','p','q','r','s','t','u','v','w','x','y','z','A','B','C','D','E','F','G','H','I','J','K','L','M','N','O','P','Q','R','S','T','U','V','W','X','Y','Z']\n",
    "numbers = ['0','1','2','3','4','5','6','7','8','9']\n",
    "symbols = ['!','#','$','%','&','(',')','*','+','@']\n",
    "print(\"Welcome to password Generator!\")\n",
    "n_letters = int(input(\"How many letters you want in your password?\\n\"))\n",
    "n_symbols = int(input(\"How many symbols you want in your password?\\n\"))\n",
    "n_numbers = int(input(\"How many numbers you want in your password?\\n\"))\n",
    "password = \" \"\n",
    "for i in range(1,n_letters+1):   #1,2,3,4\n",
    "    char = random.choice(letters)\n",
    "    password =  password + char\n",
    "\n",
    "for i in range(1,n_symbols+1):\n",
    "    char = random.choice(symbols)\n",
    "    password = password + char\n",
    "    \n",
    "for i in range(1,n_numbers+1):\n",
    "    char = random.choice(numbers)\n",
    "    password =  password + char\n",
    "    \n",
    "print(password)"
   ]
  }
 ],
 "metadata": {
  "kernelspec": {
   "display_name": "Python 3 (ipykernel)",
   "language": "python",
   "name": "python3"
  },
  "language_info": {
   "codemirror_mode": {
    "name": "ipython",
    "version": 3
   },
   "file_extension": ".py",
   "mimetype": "text/x-python",
   "name": "python",
   "nbconvert_exporter": "python",
   "pygments_lexer": "ipython3",
   "version": "3.11.5"
  }
 },
 "nbformat": 4,
 "nbformat_minor": 5
}
